{
 "cells": [
  {
   "cell_type": "code",
   "execution_count": 34,
   "id": "a46b2ee4",
   "metadata": {},
   "outputs": [],
   "source": [
    "import pandas as pd\n",
    "import numpy as np\n",
    "from sklearn.model_selection import train_test_split, GridSearchCV\n",
    "from sklearn.ensemble import RandomForestClassifier\n",
    "from sklearn.svm import SVC\n",
    "from sklearn.metrics import accuracy_score\n",
    "from sklearn.feature_extraction.text import TfidfVectorizer"
   ]
  },
  {
   "cell_type": "code",
   "execution_count": 2,
   "id": "4637bd66",
   "metadata": {},
   "outputs": [],
   "source": [
    "data = pd.read_csv(r\"C:\\Users\\siddaraja naik\\Downloads\\Indian_Domestic_Airline.csv\")"
   ]
  },
  {
   "cell_type": "code",
   "execution_count": 3,
   "id": "be0e0d26",
   "metadata": {},
   "outputs": [
    {
     "data": {
      "text/html": [
       "<div>\n",
       "<style scoped>\n",
       "    .dataframe tbody tr th:only-of-type {\n",
       "        vertical-align: middle;\n",
       "    }\n",
       "\n",
       "    .dataframe tbody tr th {\n",
       "        vertical-align: top;\n",
       "    }\n",
       "\n",
       "    .dataframe thead th {\n",
       "        text-align: right;\n",
       "    }\n",
       "</style>\n",
       "<table border=\"1\" class=\"dataframe\">\n",
       "  <thead>\n",
       "    <tr style=\"text-align: right;\">\n",
       "      <th></th>\n",
       "      <th>AirLine_Name</th>\n",
       "      <th>Rating - 10</th>\n",
       "      <th>Title</th>\n",
       "      <th>Name</th>\n",
       "      <th>Date</th>\n",
       "      <th>Review</th>\n",
       "      <th>Recommond</th>\n",
       "    </tr>\n",
       "  </thead>\n",
       "  <tbody>\n",
       "    <tr>\n",
       "      <th>0</th>\n",
       "      <td>AirAsia India</td>\n",
       "      <td>6.0</td>\n",
       "      <td>\"crew were welcoming\"</td>\n",
       "      <td>V Bakshi</td>\n",
       "      <td>14th October 2023</td>\n",
       "      <td>✅ Trip Verified | I had booked this fare at a ...</td>\n",
       "      <td>yes</td>\n",
       "    </tr>\n",
       "    <tr>\n",
       "      <th>1</th>\n",
       "      <td>AirAsia India</td>\n",
       "      <td>1.0</td>\n",
       "      <td>\"furious and disappointed\"</td>\n",
       "      <td>G Oscar</td>\n",
       "      <td>14th October 2023</td>\n",
       "      <td>✅ Trip Verified | I travel at least four times...</td>\n",
       "      <td>no</td>\n",
       "    </tr>\n",
       "    <tr>\n",
       "      <th>2</th>\n",
       "      <td>AirAsia India</td>\n",
       "      <td>10.0</td>\n",
       "      <td>\"amazing service and support\"</td>\n",
       "      <td>Rahul Verma</td>\n",
       "      <td>14th October 2023</td>\n",
       "      <td>✅ Trip Verified | Taking this opportunity to a...</td>\n",
       "      <td>yes</td>\n",
       "    </tr>\n",
       "    <tr>\n",
       "      <th>3</th>\n",
       "      <td>AirAsia India</td>\n",
       "      <td>1.0</td>\n",
       "      <td>\"Waste of time and money\"</td>\n",
       "      <td>G Akron</td>\n",
       "      <td>14th October 2023</td>\n",
       "      <td>✅ Trip Verified | The worst airlines in the hi...</td>\n",
       "      <td>no</td>\n",
       "    </tr>\n",
       "    <tr>\n",
       "      <th>4</th>\n",
       "      <td>AirAsia India</td>\n",
       "      <td>8.0</td>\n",
       "      <td>\"thumbs up to boarding crew\"</td>\n",
       "      <td>Sirajudeen Jawahar ali</td>\n",
       "      <td>14th October 2023</td>\n",
       "      <td>✅ Trip Verified |  Would like to give big thum...</td>\n",
       "      <td>yes</td>\n",
       "    </tr>\n",
       "  </tbody>\n",
       "</table>\n",
       "</div>"
      ],
      "text/plain": [
       "    AirLine_Name  Rating - 10                          Title  \\\n",
       "0  AirAsia India          6.0          \"crew were welcoming\"   \n",
       "1  AirAsia India          1.0     \"furious and disappointed\"   \n",
       "2  AirAsia India         10.0  \"amazing service and support\"   \n",
       "3  AirAsia India          1.0      \"Waste of time and money\"   \n",
       "4  AirAsia India          8.0   \"thumbs up to boarding crew\"   \n",
       "\n",
       "                     Name               Date  \\\n",
       "0                V Bakshi  14th October 2023   \n",
       "1                 G Oscar  14th October 2023   \n",
       "2             Rahul Verma  14th October 2023   \n",
       "3                 G Akron  14th October 2023   \n",
       "4  Sirajudeen Jawahar ali  14th October 2023   \n",
       "\n",
       "                                              Review Recommond  \n",
       "0  ✅ Trip Verified | I had booked this fare at a ...       yes  \n",
       "1  ✅ Trip Verified | I travel at least four times...        no  \n",
       "2  ✅ Trip Verified | Taking this opportunity to a...       yes  \n",
       "3  ✅ Trip Verified | The worst airlines in the hi...        no  \n",
       "4  ✅ Trip Verified |  Would like to give big thum...       yes  "
      ]
     },
     "execution_count": 3,
     "metadata": {},
     "output_type": "execute_result"
    }
   ],
   "source": [
    "data.head()"
   ]
  },
  {
   "cell_type": "code",
   "execution_count": 4,
   "id": "441e280e",
   "metadata": {},
   "outputs": [
    {
     "data": {
      "text/plain": [
       "AirLine_Name    0\n",
       "Rating - 10     4\n",
       "Title           0\n",
       "Name            0\n",
       "Date            0\n",
       "Review          0\n",
       "Recommond       0\n",
       "dtype: int64"
      ]
     },
     "execution_count": 4,
     "metadata": {},
     "output_type": "execute_result"
    }
   ],
   "source": [
    "data.isnull().sum()"
   ]
  },
  {
   "cell_type": "code",
   "execution_count": 5,
   "id": "47faff41",
   "metadata": {},
   "outputs": [
    {
     "data": {
      "text/plain": [
       "4.033091568449683"
      ]
     },
     "execution_count": 5,
     "metadata": {},
     "output_type": "execute_result"
    }
   ],
   "source": [
    "data['Rating - 10'].mean()\n"
   ]
  },
  {
   "cell_type": "code",
   "execution_count": 6,
   "id": "51a146b9",
   "metadata": {},
   "outputs": [],
   "source": [
    "data['Rating - 10'].fillna(4.033091568449683, inplace=True)"
   ]
  },
  {
   "cell_type": "code",
   "execution_count": 7,
   "id": "04b828dd",
   "metadata": {},
   "outputs": [
    {
     "data": {
      "text/plain": [
       "AirLine_Name    0\n",
       "Rating - 10     0\n",
       "Title           0\n",
       "Name            0\n",
       "Date            0\n",
       "Review          0\n",
       "Recommond       0\n",
       "dtype: int64"
      ]
     },
     "execution_count": 7,
     "metadata": {},
     "output_type": "execute_result"
    }
   ],
   "source": [
    "data.isnull().sum()"
   ]
  },
  {
   "cell_type": "code",
   "execution_count": 8,
   "id": "ada113de",
   "metadata": {},
   "outputs": [
    {
     "data": {
      "text/plain": [
       "AirLine_Name    0\n",
       "Rating - 10     0\n",
       "Title           0\n",
       "Name            0\n",
       "Date            0\n",
       "Review          0\n",
       "Recommond       0\n",
       "dtype: int64"
      ]
     },
     "execution_count": 8,
     "metadata": {},
     "output_type": "execute_result"
    }
   ],
   "source": [
    "data.isna().sum()"
   ]
  },
  {
   "cell_type": "code",
   "execution_count": 10,
   "id": "5cf6bf0d",
   "metadata": {},
   "outputs": [
    {
     "data": {
      "text/plain": [
       "array(['yes', 'no'], dtype=object)"
      ]
     },
     "execution_count": 10,
     "metadata": {},
     "output_type": "execute_result"
    }
   ],
   "source": [
    "data['Recommond'].unique()"
   ]
  },
  {
   "cell_type": "code",
   "execution_count": 11,
   "id": "9e99db43",
   "metadata": {},
   "outputs": [],
   "source": [
    "from sklearn.preprocessing import LabelEncoder"
   ]
  },
  {
   "cell_type": "code",
   "execution_count": 12,
   "id": "5492e3f1",
   "metadata": {},
   "outputs": [],
   "source": [
    "le=LabelEncoder()"
   ]
  },
  {
   "cell_type": "code",
   "execution_count": 13,
   "id": "3a88fe85",
   "metadata": {},
   "outputs": [],
   "source": [
    "data['nr']=le.fit_transform(data['Recommond'])"
   ]
  },
  {
   "cell_type": "code",
   "execution_count": 14,
   "id": "8c28402d",
   "metadata": {},
   "outputs": [
    {
     "data": {
      "text/html": [
       "<div>\n",
       "<style scoped>\n",
       "    .dataframe tbody tr th:only-of-type {\n",
       "        vertical-align: middle;\n",
       "    }\n",
       "\n",
       "    .dataframe tbody tr th {\n",
       "        vertical-align: top;\n",
       "    }\n",
       "\n",
       "    .dataframe thead th {\n",
       "        text-align: right;\n",
       "    }\n",
       "</style>\n",
       "<table border=\"1\" class=\"dataframe\">\n",
       "  <thead>\n",
       "    <tr style=\"text-align: right;\">\n",
       "      <th></th>\n",
       "      <th>AirLine_Name</th>\n",
       "      <th>Rating - 10</th>\n",
       "      <th>Title</th>\n",
       "      <th>Name</th>\n",
       "      <th>Date</th>\n",
       "      <th>Review</th>\n",
       "      <th>Recommond</th>\n",
       "      <th>nr</th>\n",
       "    </tr>\n",
       "  </thead>\n",
       "  <tbody>\n",
       "    <tr>\n",
       "      <th>0</th>\n",
       "      <td>AirAsia India</td>\n",
       "      <td>6.0</td>\n",
       "      <td>\"crew were welcoming\"</td>\n",
       "      <td>V Bakshi</td>\n",
       "      <td>14th October 2023</td>\n",
       "      <td>✅ Trip Verified | I had booked this fare at a ...</td>\n",
       "      <td>yes</td>\n",
       "      <td>1</td>\n",
       "    </tr>\n",
       "    <tr>\n",
       "      <th>1</th>\n",
       "      <td>AirAsia India</td>\n",
       "      <td>1.0</td>\n",
       "      <td>\"furious and disappointed\"</td>\n",
       "      <td>G Oscar</td>\n",
       "      <td>14th October 2023</td>\n",
       "      <td>✅ Trip Verified | I travel at least four times...</td>\n",
       "      <td>no</td>\n",
       "      <td>0</td>\n",
       "    </tr>\n",
       "    <tr>\n",
       "      <th>2</th>\n",
       "      <td>AirAsia India</td>\n",
       "      <td>10.0</td>\n",
       "      <td>\"amazing service and support\"</td>\n",
       "      <td>Rahul Verma</td>\n",
       "      <td>14th October 2023</td>\n",
       "      <td>✅ Trip Verified | Taking this opportunity to a...</td>\n",
       "      <td>yes</td>\n",
       "      <td>1</td>\n",
       "    </tr>\n",
       "    <tr>\n",
       "      <th>3</th>\n",
       "      <td>AirAsia India</td>\n",
       "      <td>1.0</td>\n",
       "      <td>\"Waste of time and money\"</td>\n",
       "      <td>G Akron</td>\n",
       "      <td>14th October 2023</td>\n",
       "      <td>✅ Trip Verified | The worst airlines in the hi...</td>\n",
       "      <td>no</td>\n",
       "      <td>0</td>\n",
       "    </tr>\n",
       "    <tr>\n",
       "      <th>4</th>\n",
       "      <td>AirAsia India</td>\n",
       "      <td>8.0</td>\n",
       "      <td>\"thumbs up to boarding crew\"</td>\n",
       "      <td>Sirajudeen Jawahar ali</td>\n",
       "      <td>14th October 2023</td>\n",
       "      <td>✅ Trip Verified |  Would like to give big thum...</td>\n",
       "      <td>yes</td>\n",
       "      <td>1</td>\n",
       "    </tr>\n",
       "    <tr>\n",
       "      <th>...</th>\n",
       "      <td>...</td>\n",
       "      <td>...</td>\n",
       "      <td>...</td>\n",
       "      <td>...</td>\n",
       "      <td>...</td>\n",
       "      <td>...</td>\n",
       "      <td>...</td>\n",
       "      <td>...</td>\n",
       "    </tr>\n",
       "    <tr>\n",
       "      <th>2205</th>\n",
       "      <td>Vistara</td>\n",
       "      <td>8.0</td>\n",
       "      <td>\"Vistara was a good experience\"</td>\n",
       "      <td>Rudra Bhattacharya</td>\n",
       "      <td>15th June 2016</td>\n",
       "      <td>Goa to Mumbai, and Vistara was a good experien...</td>\n",
       "      <td>yes</td>\n",
       "      <td>1</td>\n",
       "    </tr>\n",
       "    <tr>\n",
       "      <th>2206</th>\n",
       "      <td>Vistara</td>\n",
       "      <td>6.0</td>\n",
       "      <td>\"the journey was satisfactory\"</td>\n",
       "      <td>Atharva Agashe</td>\n",
       "      <td>15th June 2016</td>\n",
       "      <td>Mumbai to Bengaluru. This was my third time fl...</td>\n",
       "      <td>yes</td>\n",
       "      <td>1</td>\n",
       "    </tr>\n",
       "    <tr>\n",
       "      <th>2207</th>\n",
       "      <td>Vistara</td>\n",
       "      <td>10.0</td>\n",
       "      <td>\"value for money\"</td>\n",
       "      <td>Abhishek Ghamande</td>\n",
       "      <td>15th June 2016</td>\n",
       "      <td>Flew Vistara for the first time in February fr...</td>\n",
       "      <td>yes</td>\n",
       "      <td>1</td>\n",
       "    </tr>\n",
       "    <tr>\n",
       "      <th>2208</th>\n",
       "      <td>Vistara</td>\n",
       "      <td>8.0</td>\n",
       "      <td>\"aircraft was new and fresh\"</td>\n",
       "      <td>Samarendra Patra</td>\n",
       "      <td>15th June 2016</td>\n",
       "      <td>Bhubaneswar to Delhi with Vistara. I had booke...</td>\n",
       "      <td>yes</td>\n",
       "      <td>1</td>\n",
       "    </tr>\n",
       "    <tr>\n",
       "      <th>2209</th>\n",
       "      <td>Vistara</td>\n",
       "      <td>10.0</td>\n",
       "      <td>Vistara customer review</td>\n",
       "      <td>Shivam Negi</td>\n",
       "      <td>15th June 2016</td>\n",
       "      <td>Mumbai to Delhi with Vistara. I had booked thi...</td>\n",
       "      <td>yes</td>\n",
       "      <td>1</td>\n",
       "    </tr>\n",
       "  </tbody>\n",
       "</table>\n",
       "<p>2210 rows × 8 columns</p>\n",
       "</div>"
      ],
      "text/plain": [
       "       AirLine_Name  Rating - 10                            Title  \\\n",
       "0     AirAsia India          6.0            \"crew were welcoming\"   \n",
       "1     AirAsia India          1.0       \"furious and disappointed\"   \n",
       "2     AirAsia India         10.0    \"amazing service and support\"   \n",
       "3     AirAsia India          1.0        \"Waste of time and money\"   \n",
       "4     AirAsia India          8.0     \"thumbs up to boarding crew\"   \n",
       "...             ...          ...                              ...   \n",
       "2205        Vistara          8.0  \"Vistara was a good experience\"   \n",
       "2206        Vistara          6.0   \"the journey was satisfactory\"   \n",
       "2207        Vistara         10.0                \"value for money\"   \n",
       "2208        Vistara          8.0     \"aircraft was new and fresh\"   \n",
       "2209        Vistara         10.0          Vistara customer review   \n",
       "\n",
       "                        Name               Date  \\\n",
       "0                   V Bakshi  14th October 2023   \n",
       "1                    G Oscar  14th October 2023   \n",
       "2                Rahul Verma  14th October 2023   \n",
       "3                    G Akron  14th October 2023   \n",
       "4     Sirajudeen Jawahar ali  14th October 2023   \n",
       "...                      ...                ...   \n",
       "2205      Rudra Bhattacharya     15th June 2016   \n",
       "2206          Atharva Agashe     15th June 2016   \n",
       "2207       Abhishek Ghamande     15th June 2016   \n",
       "2208        Samarendra Patra     15th June 2016   \n",
       "2209             Shivam Negi     15th June 2016   \n",
       "\n",
       "                                                 Review Recommond  nr  \n",
       "0     ✅ Trip Verified | I had booked this fare at a ...       yes   1  \n",
       "1     ✅ Trip Verified | I travel at least four times...        no   0  \n",
       "2     ✅ Trip Verified | Taking this opportunity to a...       yes   1  \n",
       "3     ✅ Trip Verified | The worst airlines in the hi...        no   0  \n",
       "4     ✅ Trip Verified |  Would like to give big thum...       yes   1  \n",
       "...                                                 ...       ...  ..  \n",
       "2205  Goa to Mumbai, and Vistara was a good experien...       yes   1  \n",
       "2206  Mumbai to Bengaluru. This was my third time fl...       yes   1  \n",
       "2207  Flew Vistara for the first time in February fr...       yes   1  \n",
       "2208  Bhubaneswar to Delhi with Vistara. I had booke...       yes   1  \n",
       "2209  Mumbai to Delhi with Vistara. I had booked thi...       yes   1  \n",
       "\n",
       "[2210 rows x 8 columns]"
      ]
     },
     "execution_count": 14,
     "metadata": {},
     "output_type": "execute_result"
    }
   ],
   "source": [
    "data"
   ]
  },
  {
   "cell_type": "code",
   "execution_count": 16,
   "id": "a75d7bf3",
   "metadata": {},
   "outputs": [],
   "source": [
    "data.drop(columns=['Recommond'],inplace=True)"
   ]
  },
  {
   "cell_type": "code",
   "execution_count": 17,
   "id": "2390d543",
   "metadata": {},
   "outputs": [
    {
     "data": {
      "text/html": [
       "<div>\n",
       "<style scoped>\n",
       "    .dataframe tbody tr th:only-of-type {\n",
       "        vertical-align: middle;\n",
       "    }\n",
       "\n",
       "    .dataframe tbody tr th {\n",
       "        vertical-align: top;\n",
       "    }\n",
       "\n",
       "    .dataframe thead th {\n",
       "        text-align: right;\n",
       "    }\n",
       "</style>\n",
       "<table border=\"1\" class=\"dataframe\">\n",
       "  <thead>\n",
       "    <tr style=\"text-align: right;\">\n",
       "      <th></th>\n",
       "      <th>AirLine_Name</th>\n",
       "      <th>Rating - 10</th>\n",
       "      <th>Title</th>\n",
       "      <th>Name</th>\n",
       "      <th>Date</th>\n",
       "      <th>Review</th>\n",
       "      <th>nr</th>\n",
       "    </tr>\n",
       "  </thead>\n",
       "  <tbody>\n",
       "    <tr>\n",
       "      <th>0</th>\n",
       "      <td>AirAsia India</td>\n",
       "      <td>6.0</td>\n",
       "      <td>\"crew were welcoming\"</td>\n",
       "      <td>V Bakshi</td>\n",
       "      <td>14th October 2023</td>\n",
       "      <td>✅ Trip Verified | I had booked this fare at a ...</td>\n",
       "      <td>1</td>\n",
       "    </tr>\n",
       "    <tr>\n",
       "      <th>1</th>\n",
       "      <td>AirAsia India</td>\n",
       "      <td>1.0</td>\n",
       "      <td>\"furious and disappointed\"</td>\n",
       "      <td>G Oscar</td>\n",
       "      <td>14th October 2023</td>\n",
       "      <td>✅ Trip Verified | I travel at least four times...</td>\n",
       "      <td>0</td>\n",
       "    </tr>\n",
       "    <tr>\n",
       "      <th>2</th>\n",
       "      <td>AirAsia India</td>\n",
       "      <td>10.0</td>\n",
       "      <td>\"amazing service and support\"</td>\n",
       "      <td>Rahul Verma</td>\n",
       "      <td>14th October 2023</td>\n",
       "      <td>✅ Trip Verified | Taking this opportunity to a...</td>\n",
       "      <td>1</td>\n",
       "    </tr>\n",
       "    <tr>\n",
       "      <th>3</th>\n",
       "      <td>AirAsia India</td>\n",
       "      <td>1.0</td>\n",
       "      <td>\"Waste of time and money\"</td>\n",
       "      <td>G Akron</td>\n",
       "      <td>14th October 2023</td>\n",
       "      <td>✅ Trip Verified | The worst airlines in the hi...</td>\n",
       "      <td>0</td>\n",
       "    </tr>\n",
       "    <tr>\n",
       "      <th>4</th>\n",
       "      <td>AirAsia India</td>\n",
       "      <td>8.0</td>\n",
       "      <td>\"thumbs up to boarding crew\"</td>\n",
       "      <td>Sirajudeen Jawahar ali</td>\n",
       "      <td>14th October 2023</td>\n",
       "      <td>✅ Trip Verified |  Would like to give big thum...</td>\n",
       "      <td>1</td>\n",
       "    </tr>\n",
       "    <tr>\n",
       "      <th>...</th>\n",
       "      <td>...</td>\n",
       "      <td>...</td>\n",
       "      <td>...</td>\n",
       "      <td>...</td>\n",
       "      <td>...</td>\n",
       "      <td>...</td>\n",
       "      <td>...</td>\n",
       "    </tr>\n",
       "    <tr>\n",
       "      <th>2205</th>\n",
       "      <td>Vistara</td>\n",
       "      <td>8.0</td>\n",
       "      <td>\"Vistara was a good experience\"</td>\n",
       "      <td>Rudra Bhattacharya</td>\n",
       "      <td>15th June 2016</td>\n",
       "      <td>Goa to Mumbai, and Vistara was a good experien...</td>\n",
       "      <td>1</td>\n",
       "    </tr>\n",
       "    <tr>\n",
       "      <th>2206</th>\n",
       "      <td>Vistara</td>\n",
       "      <td>6.0</td>\n",
       "      <td>\"the journey was satisfactory\"</td>\n",
       "      <td>Atharva Agashe</td>\n",
       "      <td>15th June 2016</td>\n",
       "      <td>Mumbai to Bengaluru. This was my third time fl...</td>\n",
       "      <td>1</td>\n",
       "    </tr>\n",
       "    <tr>\n",
       "      <th>2207</th>\n",
       "      <td>Vistara</td>\n",
       "      <td>10.0</td>\n",
       "      <td>\"value for money\"</td>\n",
       "      <td>Abhishek Ghamande</td>\n",
       "      <td>15th June 2016</td>\n",
       "      <td>Flew Vistara for the first time in February fr...</td>\n",
       "      <td>1</td>\n",
       "    </tr>\n",
       "    <tr>\n",
       "      <th>2208</th>\n",
       "      <td>Vistara</td>\n",
       "      <td>8.0</td>\n",
       "      <td>\"aircraft was new and fresh\"</td>\n",
       "      <td>Samarendra Patra</td>\n",
       "      <td>15th June 2016</td>\n",
       "      <td>Bhubaneswar to Delhi with Vistara. I had booke...</td>\n",
       "      <td>1</td>\n",
       "    </tr>\n",
       "    <tr>\n",
       "      <th>2209</th>\n",
       "      <td>Vistara</td>\n",
       "      <td>10.0</td>\n",
       "      <td>Vistara customer review</td>\n",
       "      <td>Shivam Negi</td>\n",
       "      <td>15th June 2016</td>\n",
       "      <td>Mumbai to Delhi with Vistara. I had booked thi...</td>\n",
       "      <td>1</td>\n",
       "    </tr>\n",
       "  </tbody>\n",
       "</table>\n",
       "<p>2210 rows × 7 columns</p>\n",
       "</div>"
      ],
      "text/plain": [
       "       AirLine_Name  Rating - 10                            Title  \\\n",
       "0     AirAsia India          6.0            \"crew were welcoming\"   \n",
       "1     AirAsia India          1.0       \"furious and disappointed\"   \n",
       "2     AirAsia India         10.0    \"amazing service and support\"   \n",
       "3     AirAsia India          1.0        \"Waste of time and money\"   \n",
       "4     AirAsia India          8.0     \"thumbs up to boarding crew\"   \n",
       "...             ...          ...                              ...   \n",
       "2205        Vistara          8.0  \"Vistara was a good experience\"   \n",
       "2206        Vistara          6.0   \"the journey was satisfactory\"   \n",
       "2207        Vistara         10.0                \"value for money\"   \n",
       "2208        Vistara          8.0     \"aircraft was new and fresh\"   \n",
       "2209        Vistara         10.0          Vistara customer review   \n",
       "\n",
       "                        Name               Date  \\\n",
       "0                   V Bakshi  14th October 2023   \n",
       "1                    G Oscar  14th October 2023   \n",
       "2                Rahul Verma  14th October 2023   \n",
       "3                    G Akron  14th October 2023   \n",
       "4     Sirajudeen Jawahar ali  14th October 2023   \n",
       "...                      ...                ...   \n",
       "2205      Rudra Bhattacharya     15th June 2016   \n",
       "2206          Atharva Agashe     15th June 2016   \n",
       "2207       Abhishek Ghamande     15th June 2016   \n",
       "2208        Samarendra Patra     15th June 2016   \n",
       "2209             Shivam Negi     15th June 2016   \n",
       "\n",
       "                                                 Review  nr  \n",
       "0     ✅ Trip Verified | I had booked this fare at a ...   1  \n",
       "1     ✅ Trip Verified | I travel at least four times...   0  \n",
       "2     ✅ Trip Verified | Taking this opportunity to a...   1  \n",
       "3     ✅ Trip Verified | The worst airlines in the hi...   0  \n",
       "4     ✅ Trip Verified |  Would like to give big thum...   1  \n",
       "...                                                 ...  ..  \n",
       "2205  Goa to Mumbai, and Vistara was a good experien...   1  \n",
       "2206  Mumbai to Bengaluru. This was my third time fl...   1  \n",
       "2207  Flew Vistara for the first time in February fr...   1  \n",
       "2208  Bhubaneswar to Delhi with Vistara. I had booke...   1  \n",
       "2209  Mumbai to Delhi with Vistara. I had booked thi...   1  \n",
       "\n",
       "[2210 rows x 7 columns]"
      ]
     },
     "execution_count": 17,
     "metadata": {},
     "output_type": "execute_result"
    }
   ],
   "source": [
    "data"
   ]
  },
  {
   "cell_type": "code",
   "execution_count": 18,
   "id": "35296a0d",
   "metadata": {},
   "outputs": [],
   "source": [
    "data['combined_text'] = data['Title'] + \" \" + data['Review']\n"
   ]
  },
  {
   "cell_type": "code",
   "execution_count": 19,
   "id": "3344aa7e",
   "metadata": {},
   "outputs": [],
   "source": [
    "tfidf = TfidfVectorizer(max_features=500)\n",
    "X = tfidf.fit_transform(data['combined_text']).toarray()"
   ]
  },
  {
   "cell_type": "code",
   "execution_count": null,
   "id": "f00309f7",
   "metadata": {},
   "outputs": [],
   "source": [
    "X_train, X_test, y_train, y_test = train_test_split(X, y, test_size=0.2, random_state=42)"
   ]
  },
  {
   "cell_type": "code",
   "execution_count": 20,
   "id": "8317a364",
   "metadata": {},
   "outputs": [],
   "source": [
    "y = data['nr']\n"
   ]
  },
  {
   "cell_type": "markdown",
   "id": "fc0bcc35",
   "metadata": {},
   "source": [
    "SVM - SVC\n"
   ]
  },
  {
   "cell_type": "code",
   "execution_count": 25,
   "id": "08491188",
   "metadata": {},
   "outputs": [],
   "source": [
    "svm = SVC()"
   ]
  },
  {
   "cell_type": "code",
   "execution_count": 26,
   "id": "222ca5cc",
   "metadata": {},
   "outputs": [
    {
     "data": {
      "text/html": [
       "<style>#sk-container-id-1 {color: black;}#sk-container-id-1 pre{padding: 0;}#sk-container-id-1 div.sk-toggleable {background-color: white;}#sk-container-id-1 label.sk-toggleable__label {cursor: pointer;display: block;width: 100%;margin-bottom: 0;padding: 0.3em;box-sizing: border-box;text-align: center;}#sk-container-id-1 label.sk-toggleable__label-arrow:before {content: \"▸\";float: left;margin-right: 0.25em;color: #696969;}#sk-container-id-1 label.sk-toggleable__label-arrow:hover:before {color: black;}#sk-container-id-1 div.sk-estimator:hover label.sk-toggleable__label-arrow:before {color: black;}#sk-container-id-1 div.sk-toggleable__content {max-height: 0;max-width: 0;overflow: hidden;text-align: left;background-color: #f0f8ff;}#sk-container-id-1 div.sk-toggleable__content pre {margin: 0.2em;color: black;border-radius: 0.25em;background-color: #f0f8ff;}#sk-container-id-1 input.sk-toggleable__control:checked~div.sk-toggleable__content {max-height: 200px;max-width: 100%;overflow: auto;}#sk-container-id-1 input.sk-toggleable__control:checked~label.sk-toggleable__label-arrow:before {content: \"▾\";}#sk-container-id-1 div.sk-estimator input.sk-toggleable__control:checked~label.sk-toggleable__label {background-color: #d4ebff;}#sk-container-id-1 div.sk-label input.sk-toggleable__control:checked~label.sk-toggleable__label {background-color: #d4ebff;}#sk-container-id-1 input.sk-hidden--visually {border: 0;clip: rect(1px 1px 1px 1px);clip: rect(1px, 1px, 1px, 1px);height: 1px;margin: -1px;overflow: hidden;padding: 0;position: absolute;width: 1px;}#sk-container-id-1 div.sk-estimator {font-family: monospace;background-color: #f0f8ff;border: 1px dotted black;border-radius: 0.25em;box-sizing: border-box;margin-bottom: 0.5em;}#sk-container-id-1 div.sk-estimator:hover {background-color: #d4ebff;}#sk-container-id-1 div.sk-parallel-item::after {content: \"\";width: 100%;border-bottom: 1px solid gray;flex-grow: 1;}#sk-container-id-1 div.sk-label:hover label.sk-toggleable__label {background-color: #d4ebff;}#sk-container-id-1 div.sk-serial::before {content: \"\";position: absolute;border-left: 1px solid gray;box-sizing: border-box;top: 0;bottom: 0;left: 50%;z-index: 0;}#sk-container-id-1 div.sk-serial {display: flex;flex-direction: column;align-items: center;background-color: white;padding-right: 0.2em;padding-left: 0.2em;position: relative;}#sk-container-id-1 div.sk-item {position: relative;z-index: 1;}#sk-container-id-1 div.sk-parallel {display: flex;align-items: stretch;justify-content: center;background-color: white;position: relative;}#sk-container-id-1 div.sk-item::before, #sk-container-id-1 div.sk-parallel-item::before {content: \"\";position: absolute;border-left: 1px solid gray;box-sizing: border-box;top: 0;bottom: 0;left: 50%;z-index: -1;}#sk-container-id-1 div.sk-parallel-item {display: flex;flex-direction: column;z-index: 1;position: relative;background-color: white;}#sk-container-id-1 div.sk-parallel-item:first-child::after {align-self: flex-end;width: 50%;}#sk-container-id-1 div.sk-parallel-item:last-child::after {align-self: flex-start;width: 50%;}#sk-container-id-1 div.sk-parallel-item:only-child::after {width: 0;}#sk-container-id-1 div.sk-dashed-wrapped {border: 1px dashed gray;margin: 0 0.4em 0.5em 0.4em;box-sizing: border-box;padding-bottom: 0.4em;background-color: white;}#sk-container-id-1 div.sk-label label {font-family: monospace;font-weight: bold;display: inline-block;line-height: 1.2em;}#sk-container-id-1 div.sk-label-container {text-align: center;}#sk-container-id-1 div.sk-container {/* jupyter's `normalize.less` sets `[hidden] { display: none; }` but bootstrap.min.css set `[hidden] { display: none !important; }` so we also need the `!important` here to be able to override the default hidden behavior on the sphinx rendered scikit-learn.org. See: https://github.com/scikit-learn/scikit-learn/issues/21755 */display: inline-block !important;position: relative;}#sk-container-id-1 div.sk-text-repr-fallback {display: none;}</style><div id=\"sk-container-id-1\" class=\"sk-top-container\"><div class=\"sk-text-repr-fallback\"><pre>SVC()</pre><b>In a Jupyter environment, please rerun this cell to show the HTML representation or trust the notebook. <br />On GitHub, the HTML representation is unable to render, please try loading this page with nbviewer.org.</b></div><div class=\"sk-container\" hidden><div class=\"sk-item\"><div class=\"sk-estimator sk-toggleable\"><input class=\"sk-toggleable__control sk-hidden--visually\" id=\"sk-estimator-id-1\" type=\"checkbox\" checked><label for=\"sk-estimator-id-1\" class=\"sk-toggleable__label sk-toggleable__label-arrow\">SVC</label><div class=\"sk-toggleable__content\"><pre>SVC()</pre></div></div></div></div></div>"
      ],
      "text/plain": [
       "SVC()"
      ]
     },
     "execution_count": 26,
     "metadata": {},
     "output_type": "execute_result"
    }
   ],
   "source": [
    "svm.fit(X_train, y_train)"
   ]
  },
  {
   "cell_type": "code",
   "execution_count": 27,
   "id": "5c866855",
   "metadata": {},
   "outputs": [],
   "source": [
    "svc_y_pred = svm.predict(X_test)"
   ]
  },
  {
   "cell_type": "code",
   "execution_count": 28,
   "id": "f41adaa0",
   "metadata": {},
   "outputs": [
    {
     "name": "stdout",
     "output_type": "stream",
     "text": [
      "SVC Accuracy: 91.86%\n"
     ]
    }
   ],
   "source": [
    "svc_acc = accuracy_score(y_test, svc_y_pred)\n",
    "print(f\"SVC Accuracy: {svc_acc * 100:.2f}%\")"
   ]
  },
  {
   "cell_type": "markdown",
   "id": "1db3eda9",
   "metadata": {},
   "source": [
    "Random forest Classification\n"
   ]
  },
  {
   "cell_type": "code",
   "execution_count": 30,
   "id": "2ea709b2",
   "metadata": {},
   "outputs": [],
   "source": [
    "rf_clf = RandomForestClassifier(n_estimators=100, random_state=42)\n"
   ]
  },
  {
   "cell_type": "code",
   "execution_count": 31,
   "id": "a8056a94",
   "metadata": {},
   "outputs": [
    {
     "data": {
      "text/html": [
       "<style>#sk-container-id-2 {color: black;}#sk-container-id-2 pre{padding: 0;}#sk-container-id-2 div.sk-toggleable {background-color: white;}#sk-container-id-2 label.sk-toggleable__label {cursor: pointer;display: block;width: 100%;margin-bottom: 0;padding: 0.3em;box-sizing: border-box;text-align: center;}#sk-container-id-2 label.sk-toggleable__label-arrow:before {content: \"▸\";float: left;margin-right: 0.25em;color: #696969;}#sk-container-id-2 label.sk-toggleable__label-arrow:hover:before {color: black;}#sk-container-id-2 div.sk-estimator:hover label.sk-toggleable__label-arrow:before {color: black;}#sk-container-id-2 div.sk-toggleable__content {max-height: 0;max-width: 0;overflow: hidden;text-align: left;background-color: #f0f8ff;}#sk-container-id-2 div.sk-toggleable__content pre {margin: 0.2em;color: black;border-radius: 0.25em;background-color: #f0f8ff;}#sk-container-id-2 input.sk-toggleable__control:checked~div.sk-toggleable__content {max-height: 200px;max-width: 100%;overflow: auto;}#sk-container-id-2 input.sk-toggleable__control:checked~label.sk-toggleable__label-arrow:before {content: \"▾\";}#sk-container-id-2 div.sk-estimator input.sk-toggleable__control:checked~label.sk-toggleable__label {background-color: #d4ebff;}#sk-container-id-2 div.sk-label input.sk-toggleable__control:checked~label.sk-toggleable__label {background-color: #d4ebff;}#sk-container-id-2 input.sk-hidden--visually {border: 0;clip: rect(1px 1px 1px 1px);clip: rect(1px, 1px, 1px, 1px);height: 1px;margin: -1px;overflow: hidden;padding: 0;position: absolute;width: 1px;}#sk-container-id-2 div.sk-estimator {font-family: monospace;background-color: #f0f8ff;border: 1px dotted black;border-radius: 0.25em;box-sizing: border-box;margin-bottom: 0.5em;}#sk-container-id-2 div.sk-estimator:hover {background-color: #d4ebff;}#sk-container-id-2 div.sk-parallel-item::after {content: \"\";width: 100%;border-bottom: 1px solid gray;flex-grow: 1;}#sk-container-id-2 div.sk-label:hover label.sk-toggleable__label {background-color: #d4ebff;}#sk-container-id-2 div.sk-serial::before {content: \"\";position: absolute;border-left: 1px solid gray;box-sizing: border-box;top: 0;bottom: 0;left: 50%;z-index: 0;}#sk-container-id-2 div.sk-serial {display: flex;flex-direction: column;align-items: center;background-color: white;padding-right: 0.2em;padding-left: 0.2em;position: relative;}#sk-container-id-2 div.sk-item {position: relative;z-index: 1;}#sk-container-id-2 div.sk-parallel {display: flex;align-items: stretch;justify-content: center;background-color: white;position: relative;}#sk-container-id-2 div.sk-item::before, #sk-container-id-2 div.sk-parallel-item::before {content: \"\";position: absolute;border-left: 1px solid gray;box-sizing: border-box;top: 0;bottom: 0;left: 50%;z-index: -1;}#sk-container-id-2 div.sk-parallel-item {display: flex;flex-direction: column;z-index: 1;position: relative;background-color: white;}#sk-container-id-2 div.sk-parallel-item:first-child::after {align-self: flex-end;width: 50%;}#sk-container-id-2 div.sk-parallel-item:last-child::after {align-self: flex-start;width: 50%;}#sk-container-id-2 div.sk-parallel-item:only-child::after {width: 0;}#sk-container-id-2 div.sk-dashed-wrapped {border: 1px dashed gray;margin: 0 0.4em 0.5em 0.4em;box-sizing: border-box;padding-bottom: 0.4em;background-color: white;}#sk-container-id-2 div.sk-label label {font-family: monospace;font-weight: bold;display: inline-block;line-height: 1.2em;}#sk-container-id-2 div.sk-label-container {text-align: center;}#sk-container-id-2 div.sk-container {/* jupyter's `normalize.less` sets `[hidden] { display: none; }` but bootstrap.min.css set `[hidden] { display: none !important; }` so we also need the `!important` here to be able to override the default hidden behavior on the sphinx rendered scikit-learn.org. See: https://github.com/scikit-learn/scikit-learn/issues/21755 */display: inline-block !important;position: relative;}#sk-container-id-2 div.sk-text-repr-fallback {display: none;}</style><div id=\"sk-container-id-2\" class=\"sk-top-container\"><div class=\"sk-text-repr-fallback\"><pre>RandomForestClassifier(random_state=42)</pre><b>In a Jupyter environment, please rerun this cell to show the HTML representation or trust the notebook. <br />On GitHub, the HTML representation is unable to render, please try loading this page with nbviewer.org.</b></div><div class=\"sk-container\" hidden><div class=\"sk-item\"><div class=\"sk-estimator sk-toggleable\"><input class=\"sk-toggleable__control sk-hidden--visually\" id=\"sk-estimator-id-2\" type=\"checkbox\" checked><label for=\"sk-estimator-id-2\" class=\"sk-toggleable__label sk-toggleable__label-arrow\">RandomForestClassifier</label><div class=\"sk-toggleable__content\"><pre>RandomForestClassifier(random_state=42)</pre></div></div></div></div></div>"
      ],
      "text/plain": [
       "RandomForestClassifier(random_state=42)"
      ]
     },
     "execution_count": 31,
     "metadata": {},
     "output_type": "execute_result"
    }
   ],
   "source": [
    "rf_clf.fit(X_train, y_train)"
   ]
  },
  {
   "cell_type": "code",
   "execution_count": 32,
   "id": "8499209a",
   "metadata": {},
   "outputs": [],
   "source": [
    "rf_y_pred = rf_clf.predict(X_test)"
   ]
  },
  {
   "cell_type": "code",
   "execution_count": 33,
   "id": "ee5b4ab5",
   "metadata": {},
   "outputs": [
    {
     "name": "stdout",
     "output_type": "stream",
     "text": [
      "Random Forest Accuracy: 90.50%\n"
     ]
    }
   ],
   "source": [
    "rf_acc = accuracy_score(y_test, rf_y_pred)\n",
    "print(f\"Random Forest Accuracy: {rf_acc * 100:.2f}%\")"
   ]
  },
  {
   "cell_type": "markdown",
   "id": "abcf352d",
   "metadata": {},
   "source": [
    "Hyperparameters using GridSearch\n"
   ]
  },
  {
   "cell_type": "code",
   "execution_count": 35,
   "id": "6835de8f",
   "metadata": {},
   "outputs": [],
   "source": [
    "param_grid = {\n",
    "    'n_estimators': [100, 200, 300],\n",
    "    'max_depth': [None, 10, 20, 30],\n",
    "    'min_samples_split': [2, 5, 10],\n",
    "    'min_samples_leaf': [1, 2, 4],\n",
    "    'bootstrap': [True, False]\n",
    "}"
   ]
  },
  {
   "cell_type": "code",
   "execution_count": 36,
   "id": "83ba74b8",
   "metadata": {},
   "outputs": [],
   "source": [
    "grid_search = GridSearchCV(estimator=RandomForestClassifier(random_state=42),\n",
    "                           param_grid=param_grid, cv=5, verbose=2, n_jobs=-1)\n"
   ]
  },
  {
   "cell_type": "code",
   "execution_count": 37,
   "id": "245a4d40",
   "metadata": {},
   "outputs": [
    {
     "name": "stdout",
     "output_type": "stream",
     "text": [
      "Fitting 5 folds for each of 216 candidates, totalling 1080 fits\n"
     ]
    },
    {
     "data": {
      "text/html": [
       "<style>#sk-container-id-3 {color: black;}#sk-container-id-3 pre{padding: 0;}#sk-container-id-3 div.sk-toggleable {background-color: white;}#sk-container-id-3 label.sk-toggleable__label {cursor: pointer;display: block;width: 100%;margin-bottom: 0;padding: 0.3em;box-sizing: border-box;text-align: center;}#sk-container-id-3 label.sk-toggleable__label-arrow:before {content: \"▸\";float: left;margin-right: 0.25em;color: #696969;}#sk-container-id-3 label.sk-toggleable__label-arrow:hover:before {color: black;}#sk-container-id-3 div.sk-estimator:hover label.sk-toggleable__label-arrow:before {color: black;}#sk-container-id-3 div.sk-toggleable__content {max-height: 0;max-width: 0;overflow: hidden;text-align: left;background-color: #f0f8ff;}#sk-container-id-3 div.sk-toggleable__content pre {margin: 0.2em;color: black;border-radius: 0.25em;background-color: #f0f8ff;}#sk-container-id-3 input.sk-toggleable__control:checked~div.sk-toggleable__content {max-height: 200px;max-width: 100%;overflow: auto;}#sk-container-id-3 input.sk-toggleable__control:checked~label.sk-toggleable__label-arrow:before {content: \"▾\";}#sk-container-id-3 div.sk-estimator input.sk-toggleable__control:checked~label.sk-toggleable__label {background-color: #d4ebff;}#sk-container-id-3 div.sk-label input.sk-toggleable__control:checked~label.sk-toggleable__label {background-color: #d4ebff;}#sk-container-id-3 input.sk-hidden--visually {border: 0;clip: rect(1px 1px 1px 1px);clip: rect(1px, 1px, 1px, 1px);height: 1px;margin: -1px;overflow: hidden;padding: 0;position: absolute;width: 1px;}#sk-container-id-3 div.sk-estimator {font-family: monospace;background-color: #f0f8ff;border: 1px dotted black;border-radius: 0.25em;box-sizing: border-box;margin-bottom: 0.5em;}#sk-container-id-3 div.sk-estimator:hover {background-color: #d4ebff;}#sk-container-id-3 div.sk-parallel-item::after {content: \"\";width: 100%;border-bottom: 1px solid gray;flex-grow: 1;}#sk-container-id-3 div.sk-label:hover label.sk-toggleable__label {background-color: #d4ebff;}#sk-container-id-3 div.sk-serial::before {content: \"\";position: absolute;border-left: 1px solid gray;box-sizing: border-box;top: 0;bottom: 0;left: 50%;z-index: 0;}#sk-container-id-3 div.sk-serial {display: flex;flex-direction: column;align-items: center;background-color: white;padding-right: 0.2em;padding-left: 0.2em;position: relative;}#sk-container-id-3 div.sk-item {position: relative;z-index: 1;}#sk-container-id-3 div.sk-parallel {display: flex;align-items: stretch;justify-content: center;background-color: white;position: relative;}#sk-container-id-3 div.sk-item::before, #sk-container-id-3 div.sk-parallel-item::before {content: \"\";position: absolute;border-left: 1px solid gray;box-sizing: border-box;top: 0;bottom: 0;left: 50%;z-index: -1;}#sk-container-id-3 div.sk-parallel-item {display: flex;flex-direction: column;z-index: 1;position: relative;background-color: white;}#sk-container-id-3 div.sk-parallel-item:first-child::after {align-self: flex-end;width: 50%;}#sk-container-id-3 div.sk-parallel-item:last-child::after {align-self: flex-start;width: 50%;}#sk-container-id-3 div.sk-parallel-item:only-child::after {width: 0;}#sk-container-id-3 div.sk-dashed-wrapped {border: 1px dashed gray;margin: 0 0.4em 0.5em 0.4em;box-sizing: border-box;padding-bottom: 0.4em;background-color: white;}#sk-container-id-3 div.sk-label label {font-family: monospace;font-weight: bold;display: inline-block;line-height: 1.2em;}#sk-container-id-3 div.sk-label-container {text-align: center;}#sk-container-id-3 div.sk-container {/* jupyter's `normalize.less` sets `[hidden] { display: none; }` but bootstrap.min.css set `[hidden] { display: none !important; }` so we also need the `!important` here to be able to override the default hidden behavior on the sphinx rendered scikit-learn.org. See: https://github.com/scikit-learn/scikit-learn/issues/21755 */display: inline-block !important;position: relative;}#sk-container-id-3 div.sk-text-repr-fallback {display: none;}</style><div id=\"sk-container-id-3\" class=\"sk-top-container\"><div class=\"sk-text-repr-fallback\"><pre>GridSearchCV(cv=5, estimator=RandomForestClassifier(random_state=42), n_jobs=-1,\n",
       "             param_grid={&#x27;bootstrap&#x27;: [True, False],\n",
       "                         &#x27;max_depth&#x27;: [None, 10, 20, 30],\n",
       "                         &#x27;min_samples_leaf&#x27;: [1, 2, 4],\n",
       "                         &#x27;min_samples_split&#x27;: [2, 5, 10],\n",
       "                         &#x27;n_estimators&#x27;: [100, 200, 300]},\n",
       "             verbose=2)</pre><b>In a Jupyter environment, please rerun this cell to show the HTML representation or trust the notebook. <br />On GitHub, the HTML representation is unable to render, please try loading this page with nbviewer.org.</b></div><div class=\"sk-container\" hidden><div class=\"sk-item sk-dashed-wrapped\"><div class=\"sk-label-container\"><div class=\"sk-label sk-toggleable\"><input class=\"sk-toggleable__control sk-hidden--visually\" id=\"sk-estimator-id-3\" type=\"checkbox\" ><label for=\"sk-estimator-id-3\" class=\"sk-toggleable__label sk-toggleable__label-arrow\">GridSearchCV</label><div class=\"sk-toggleable__content\"><pre>GridSearchCV(cv=5, estimator=RandomForestClassifier(random_state=42), n_jobs=-1,\n",
       "             param_grid={&#x27;bootstrap&#x27;: [True, False],\n",
       "                         &#x27;max_depth&#x27;: [None, 10, 20, 30],\n",
       "                         &#x27;min_samples_leaf&#x27;: [1, 2, 4],\n",
       "                         &#x27;min_samples_split&#x27;: [2, 5, 10],\n",
       "                         &#x27;n_estimators&#x27;: [100, 200, 300]},\n",
       "             verbose=2)</pre></div></div></div><div class=\"sk-parallel\"><div class=\"sk-parallel-item\"><div class=\"sk-item\"><div class=\"sk-label-container\"><div class=\"sk-label sk-toggleable\"><input class=\"sk-toggleable__control sk-hidden--visually\" id=\"sk-estimator-id-4\" type=\"checkbox\" ><label for=\"sk-estimator-id-4\" class=\"sk-toggleable__label sk-toggleable__label-arrow\">estimator: RandomForestClassifier</label><div class=\"sk-toggleable__content\"><pre>RandomForestClassifier(random_state=42)</pre></div></div></div><div class=\"sk-serial\"><div class=\"sk-item\"><div class=\"sk-estimator sk-toggleable\"><input class=\"sk-toggleable__control sk-hidden--visually\" id=\"sk-estimator-id-5\" type=\"checkbox\" ><label for=\"sk-estimator-id-5\" class=\"sk-toggleable__label sk-toggleable__label-arrow\">RandomForestClassifier</label><div class=\"sk-toggleable__content\"><pre>RandomForestClassifier(random_state=42)</pre></div></div></div></div></div></div></div></div></div></div>"
      ],
      "text/plain": [
       "GridSearchCV(cv=5, estimator=RandomForestClassifier(random_state=42), n_jobs=-1,\n",
       "             param_grid={'bootstrap': [True, False],\n",
       "                         'max_depth': [None, 10, 20, 30],\n",
       "                         'min_samples_leaf': [1, 2, 4],\n",
       "                         'min_samples_split': [2, 5, 10],\n",
       "                         'n_estimators': [100, 200, 300]},\n",
       "             verbose=2)"
      ]
     },
     "execution_count": 37,
     "metadata": {},
     "output_type": "execute_result"
    }
   ],
   "source": [
    "grid_search.fit(X_train, y_train)"
   ]
  },
  {
   "cell_type": "code",
   "execution_count": 38,
   "id": "7db29d89",
   "metadata": {},
   "outputs": [
    {
     "name": "stdout",
     "output_type": "stream",
     "text": [
      "Best Parameters: {'bootstrap': False, 'max_depth': 30, 'min_samples_leaf': 1, 'min_samples_split': 5, 'n_estimators': 300}\n"
     ]
    }
   ],
   "source": [
    "print(f\"Best Parameters: {grid_search.best_params_}\")\n"
   ]
  },
  {
   "cell_type": "code",
   "execution_count": 39,
   "id": "ba9ad58a",
   "metadata": {},
   "outputs": [],
   "source": [
    "best_rf_clf = grid_search.best_estimator_\n",
    "best_rf_y_pred = best_rf_clf.predict(X_test)"
   ]
  },
  {
   "cell_type": "code",
   "execution_count": 40,
   "id": "195bebf3",
   "metadata": {},
   "outputs": [
    {
     "name": "stdout",
     "output_type": "stream",
     "text": [
      "Random Forest Accuracy after tuning: 90.27%\n"
     ]
    }
   ],
   "source": [
    "best_rf_accuracy = accuracy_score(y_test, best_rf_y_pred)\n",
    "print(f\"Random Forest Accuracy after tuning: {best_rf_accuracy * 100:.2f}%\")"
   ]
  },
  {
   "cell_type": "code",
   "execution_count": null,
   "id": "c05d3360",
   "metadata": {},
   "outputs": [],
   "source": []
  }
 ],
 "metadata": {
  "kernelspec": {
   "display_name": "Python 3 (ipykernel)",
   "language": "python",
   "name": "python3"
  },
  "language_info": {
   "codemirror_mode": {
    "name": "ipython",
    "version": 3
   },
   "file_extension": ".py",
   "mimetype": "text/x-python",
   "name": "python",
   "nbconvert_exporter": "python",
   "pygments_lexer": "ipython3",
   "version": "3.11.5"
  }
 },
 "nbformat": 4,
 "nbformat_minor": 5
}
